{
 "cells": [
  {
   "cell_type": "code",
   "execution_count": 63,
   "metadata": {},
   "outputs": [],
   "source": [
    "import pandas as pd\n",
    "import numpy as np\n",
    "import re\n",
    "import string\n",
    "from flashtext import KeywordProcessor\n",
    "from sklearn.feature_extraction.text import TfidfVectorizer\n",
    "import nltk\n",
    "from nltk.corpus import stopwords\n",
    "import matplotlib.pyplot as plt"
   ]
  },
  {
   "cell_type": "code",
   "execution_count": 64,
   "metadata": {},
   "outputs": [],
   "source": [
    "# This will allow you to see all column names & rows when you are doing .head(). None of the column name will be truncated.\n",
    "# source: https://stackoverflow.com/questions/49188960/how-to-show-all-of-columns-name-on-pandas-dataframe\n",
    "\n",
    "pd.set_option('display.max_columns', None)\n",
    "# pd.set_option('display.max_rows', None)"
   ]
  },
  {
   "cell_type": "code",
   "execution_count": 65,
   "metadata": {},
   "outputs": [],
   "source": [
    "# Function which plays a beep of given duration and frequency.\n",
    "# Useful for when executing things that need a while to finish, to get notified.\n",
    "import os\n",
    "def beep(duration = 1, freq = 1500):\n",
    "    \"\"\" play tone of duration in seconds and freq in Hz. \"\"\"\n",
    "    os.system('play --no-show-progress --null --channels 1 synth %s sine %f' % (duration, freq))"
   ]
  },
  {
   "cell_type": "code",
   "execution_count": 66,
   "metadata": {},
   "outputs": [],
   "source": [
    "train = pd.read_csv('../data/train.csv',usecols=[\"id\", \"keyword\", \"text\", \"target\"],dtype={'id':'int32','target':'int8'})\n",
    "test = pd.read_csv('../data/test.csv',usecols=[\"id\", \"keyword\", \"text\"],dtype={'id':'int32'})\n",
    "sample_submission = pd.read_csv('../data/sample_submission.csv')"
   ]
  },
  {
   "cell_type": "code",
   "execution_count": 67,
   "metadata": {},
   "outputs": [],
   "source": [
    "train.keyword.fillna('other',inplace=True)\n",
    "\n",
    "# quito el numero 20 que aparece en la keyword\n",
    "train.loc[:,'keyword'] = train['keyword'].apply(lambda s: re.sub('20', ' ', s))"
   ]
  },
  {
   "cell_type": "code",
   "execution_count": 68,
   "metadata": {},
   "outputs": [],
   "source": [
    "test.keyword.fillna('other',inplace=True)\n",
    "\n",
    "# quito el numero 20 que aparece en la keyword\n",
    "test.loc[:,'keyword'] = train['keyword'].apply(lambda s: re.sub('20', ' ', s))"
   ]
  },
  {
   "cell_type": "code",
   "execution_count": 69,
   "metadata": {},
   "outputs": [],
   "source": [
    "train.text = train.text.astype(str)\n",
    "train.keyword = train.keyword.astype(str)"
   ]
  },
  {
   "cell_type": "code",
   "execution_count": 70,
   "metadata": {},
   "outputs": [],
   "source": [
    "test.text = test.text.astype(str)\n",
    "test.keyword = test.keyword.astype(str)"
   ]
  },
  {
   "cell_type": "code",
   "execution_count": 71,
   "metadata": {},
   "outputs": [],
   "source": [
    "#traduzco los pocos casos que no estaban en ingles\n",
    "train.text = train.text.str.replace('Acesse nosso site para ouvir','Visit our website to listen')\n",
    "train.text = train.text.str.replace('quem lembra','who remembers')\n",
    "train.text = train.text.str.replace('Sismo DETECTADO','Earthquake DETECTED')"
   ]
  },
  {
   "cell_type": "markdown",
   "metadata": {},
   "source": [
    "# Agregamos features que ya hemos creado para analisis de tp1"
   ]
  },
  {
   "cell_type": "code",
   "execution_count": 72,
   "metadata": {},
   "outputs": [],
   "source": [
    "def get_list_length(x):\n",
    "    return len(x)"
   ]
  },
  {
   "cell_type": "code",
   "execution_count": 73,
   "metadata": {},
   "outputs": [],
   "source": [
    "def to_lowercase(x):\n",
    "    return x.lower()"
   ]
  },
  {
   "cell_type": "code",
   "execution_count": 74,
   "metadata": {},
   "outputs": [],
   "source": [
    "def extract_hashtags(x):\n",
    "    return re.findall(r'#\\w+', x)"
   ]
  },
  {
   "cell_type": "code",
   "execution_count": 75,
   "metadata": {},
   "outputs": [],
   "source": [
    "def extract_tags(x):\n",
    "    return re.findall(r'@\\w+', x)"
   ]
  },
  {
   "cell_type": "code",
   "execution_count": 76,
   "metadata": {},
   "outputs": [],
   "source": [
    "def extract_links(x):\n",
    "    return re.findall(r'http[s]?://(?:[a-zA-Z]|[0-9]|[$-_@.&+]|[!*\\(\\),]|(?:%[0-9a-fA-F][0-9a-fA-F]))+', x)"
   ]
  },
  {
   "cell_type": "code",
   "execution_count": 77,
   "metadata": {},
   "outputs": [],
   "source": [
    "def clean_text(text):\n",
    "    \n",
    "    # Remove line breaks\n",
    "    text = re.sub(r'\\n',' ', text) \n",
    "    \n",
    "    # Remove leading, trailing, and extra spaces\n",
    "    text = re.sub('\\s+', ' ', text).strip() \n",
    "    \n",
    "    #abreviations\n",
    "    text = re.sub(r\"w/e\", \"whatever\", text)\n",
    "    text = re.sub(r\"w/\", \"with\", text)\n",
    "    \n",
    "    #HTML stuff\n",
    "    text = re.sub(r\"&gt;\", \">\", text)\n",
    "    text = re.sub(r\"&lt;\", \"<\", text)\n",
    "    text = re.sub(r\"&amp;\", \"&\", text)\n",
    "    \n",
    "    #annoying characters\n",
    "    text = re.sub(r\"\\x89Û_\", \"\", text)\n",
    "    text = re.sub(r\"\\x89ÛÒ\", \"\", text)\n",
    "    text = re.sub(r\"\\x89ÛÓ\", \"\", text)\n",
    "    text = re.sub(r\"\\x89ÛÏ\", \"\", text)\n",
    "    text = re.sub(r\"\\x89Û÷\", \"\", text)\n",
    "    text = re.sub(r\"\\x89Ûª\", \"\", text)\n",
    "    text = re.sub(r\"\\x89Û\\x9d\", \"\", text)\n",
    "    text = re.sub(r\"å_\", \"\", text)\n",
    "    text = re.sub(r\"\\x89Û¢\", \"\", text)\n",
    "    text = re.sub(r\"\\x89Û¢åÊ\", \"\", text)\n",
    "    text = re.sub(r\"åÊ\", \"\", text)\n",
    "    text = re.sub(r\"åÈ\", \"\", text)\n",
    "    text = re.sub(r\"Ì©\", \"e\", text)\n",
    "    text = re.sub(r\"å¨\", \"\", text)\n",
    "    text = re.sub(r\"åÇ\", \"\", text)\n",
    "    text = re.sub(r\"åÀ\", \"\", text)\n",
    "    \n",
    "    #punctuactions\n",
    "    text = text.replace('...', ' ... ')\n",
    "    if '...' not in text:\n",
    "        text = text.replace('..', ' ... ')\n",
    "    \n",
    "    return text"
   ]
  },
  {
   "cell_type": "code",
   "execution_count": 78,
   "metadata": {},
   "outputs": [],
   "source": [
    "train['text'] = train['text'].apply(lambda x: clean_text(x))\n",
    "test['text'] = test['text'].apply(lambda x: clean_text(x))"
   ]
  },
  {
   "cell_type": "code",
   "execution_count": 79,
   "metadata": {},
   "outputs": [],
   "source": [
    "def create_peculiar_features(df, pos):\n",
    "    df_temp = df.copy()\n",
    "    \n",
    "    #tags\n",
    "    df_temp['tags'] = df_temp['text'].apply(extract_tags)\n",
    "    df.insert(loc=df.shape[1] - pos, column='tags_count', value = df_temp['tags'].apply(get_list_length))\n",
    "    \n",
    "    #links\n",
    "    df_temp['links'] = df_temp['text'].apply(extract_links)\n",
    "    df.insert(loc=df.shape[1] - pos, column='links_count', value = df_temp['links'].apply(get_list_length))\n",
    "    \n",
    "    #hashtags\n",
    "    df_temp['text'] = df_temp['text'].apply(to_lowercase)\n",
    "    df_temp['hashtags'] = df_temp['text'].apply(extract_hashtags)\n",
    "    df.insert(loc=df.shape[1] - pos, column='hashtags_count', value = df_temp['hashtags'].apply(get_list_length))\n",
    "    \n",
    "    del(df_temp)\n",
    "    \n",
    "    return df"
   ]
  },
  {
   "cell_type": "code",
   "execution_count": 80,
   "metadata": {},
   "outputs": [],
   "source": [
    "def create_common_numerical_features(df,pos):\n",
    "    # Tweet length\n",
    "    df.insert(loc=df.shape[1] - pos, column='text_len', value = df['text'].apply(len))\n",
    "    \n",
    "    # Word count\n",
    "    df.insert(loc=df.shape[1] - pos, column='word_count', value = df['text'].apply(lambda x: len(str(x).split())))\n",
    "    \n",
    "    # Stopword count\n",
    "    df.insert(loc=df.shape[1] - pos, column='stop_word_count', value = \\\n",
    "              df['text'].apply(lambda x: len([w for w in str(x).lower().split() if w in stopwords.words('english')])))\n",
    "    \n",
    "    # Punctuation count\n",
    "    df.insert(loc=df.shape[1] - pos, column='punctuation_count', value = \\\n",
    "              df['text'].apply(lambda x: len([c for c in str(x) if c in string.punctuation])))\n",
    "\n",
    "    # Count of uppercase letters\n",
    "    df.insert(loc=df.shape[1] - pos, column='caps_count', value=\\\n",
    "              df['text'].apply(lambda x: sum(1 for c in str(x) if c.isupper())))\n",
    "    \n",
    "    # Ratio of uppercase letters\n",
    "    df.insert(loc=df.shape[1] - pos, column='caps_ratio', value = df['caps_count'] / df['text_len'])\n",
    "\n",
    "    return df"
   ]
  },
  {
   "cell_type": "code",
   "execution_count": 81,
   "metadata": {},
   "outputs": [],
   "source": [
    "train = create_peculiar_features(train,1)\n",
    "train = create_common_numerical_features(train,1)"
   ]
  },
  {
   "cell_type": "code",
   "execution_count": 82,
   "metadata": {},
   "outputs": [],
   "source": [
    "test = create_peculiar_features(test,0)\n",
    "test = create_common_numerical_features(test,0)"
   ]
  },
  {
   "cell_type": "code",
   "execution_count": 83,
   "metadata": {},
   "outputs": [],
   "source": [
    "mi_lista =[\"building burning\",\"buildings burning\", \"buildings on fire\",\"buldings\",\"flames\",\"bush fire\",\"wildfire\",\"hellfire\",\"fire\",\"truck fire\",\"wild fires\",\"bush fires\",\"forest fires\",\"arson\",\"arsonist\",\"burning\",\"ablaze\",\"blazing\",\"blaze\",\"burned\"\\\n",
    ",\"accident\",\"airplane accident\",\"bridge collapse\",\"oil spill\",\"collapse\",\"electrocuted\",\"electrocute\",\"cliff fall\",\"traped\",\"collapsed\",\"crashed\",\"crushed\",\"crush\",\"wrecked\",\"wreckage\",\"wreck\",\"collide\",\"collided\",\"collision\",\"crash\"\\\n",
    ",\"apocalypse\",\"armageddon\",\"annihilated\",\"annihilation\",\"catastrophic\",\"famine\",\"ruin\",\"catastrophe\",\"razed\",\"devastation\",\"disaster\",\"heat wave\",\"pandemonium\",\"destruction\",\"desolation\",\"desolate\",\"destroyed\",\"destroy\",\"blight\",\"demolition\"\\\n",
    ",\"terrorism\",\"bioterror\",\"bioterrorism\",\"terrorist\",\"threat\",\"hijacker\",\"hijacking\",\"mass murder\",\"mass murderer\",\"massacre\",\"massac\",\"hostage\",\"attack\",\"hijack\",\"attacked\",\"detonate\",\"suicide bomber\",\"suicide bomb\",\"blown up\",\"suicide bombing\",\"blew up\", \"blow up\",\"bombing\",\"bomb\",\"bombed\",\"exploded\",\"explosion\",\"explode\"\\\n",
    ",\"fatality\",\"fatal\",\"fatalities\",\"casualty\",\"casualties\",\"deaths\",\"death\",\"drown\",\"drowned\", \"drowning\",\"drownet\",\"tragedy\",\"trauma\",\"traumatised\",\"blood\",\"bleeding\",\"dead\",\"bloody\",\"body bagging\",\"body bag\",\"body bags\"\\\n",
    ",\"thunderstorm\",\"storm\",\"twister\",\"typhoon\",\"hurricane\",\"tornado\",\"windstorm\",\"rainstorm\",\"sandstorm\",\"hailstorm\",\"hail\",\"earthquake\",\"flooding\",\"mudslide\",\"seismic\",\"floods\",\"inundated\",\"inundation\",\"landslide\",\"lava\",\"lightning\",\"flood\",\"thunder\",\"tsunami\",\"cyclone\",\"deluge\",\"snowstorm\",\"avalanche\",\"blizzard\",\"whirlwind\",\"volcano\",\"drought\"\\\n",
    ",\"survivors\",\"survivor\",\"survive\",\"survived\",\"refugees\",\"rescue\",\"rescued\",\"rescuers\",\"wounded\",\"deluged\",\"derailed\",\"flattened\",\"harm\"\\\n",
    ",\"army\",\"battle\",\"military\",\"police\",\"weapons\",\"weapon\",\"war zone\",\"hostages\",\"mayhem\",\"detonation\",\"devastated\",\"displaced\",\"first responders\",\"eyewitness\",\"engulfed\",\"injured\",\"injuries\",\"injury\",\"obliterate\",\"obliterated\",\"obliteration\"\\\n",
    ",\"danger\",\"damage\",\"curfew\",\"debris\",\"trouble\",\"demolish\",\"meltdown\",\"aftershock\",\"nuclear reactor\",\"structural failure\",\"smoke\",\"rubble\",\"sinking\",\"sinkhole\",\"hazardous\",\"hazard\",\"fear\",\"demolished\",\"derail\",\"derailet\",\"derailment\",\"epicentre\",\"loud bang\",\"rioting\",\"riot\"\\\n",
    ",\"emergency\",\"services emergency\",\"plan emergency\",\"ambulance\",\"chemical emergency\",\"evacuate\",\"upheaval\",\"sirens\",\"wounds\",\"siren\",\"stretcher\",\"evacuated\",\"evacuation\",\"outbreak\",\"panic\",\"screamed\",\"screaming\",\"screams\",\"panicking\"\\\n",
    ",\"quarantine\",\"quarantined\"]\n",
    "\n",
    "def encuentra_key(tweet): \n",
    "    for s in tweet:\n",
    "        if s in mi_lista:\n",
    "            return s\n",
    "    return 'other'    \n",
    "\n",
    "key_aux = train.loc[train['keyword']=='other',['keyword','text']]\n",
    "key_aux['text'] = key_aux['text'].map(lambda x: x.lower())\n",
    "key_aux['text'] = key_aux['text'].map(lambda x: x.split())\n",
    "key_aux['keyword']= key_aux['text'].map(encuentra_key)"
   ]
  },
  {
   "cell_type": "code",
   "execution_count": 84,
   "metadata": {},
   "outputs": [],
   "source": [
    "train.loc[train['keyword']=='other','keyword'] = key_aux['keyword']"
   ]
  },
  {
   "cell_type": "code",
   "execution_count": 85,
   "metadata": {},
   "outputs": [],
   "source": [
    "mis_kw = train['keyword']"
   ]
  },
  {
   "cell_type": "code",
   "execution_count": 86,
   "metadata": {},
   "outputs": [],
   "source": [
    "keyword_processor = KeywordProcessor()\n",
    "keyword_dict = {\"Burning\": [\"building burning\",\"buildings burning\", \"buildings on fire\",\"buldings\",\"flames\",\"bush fire\",\"wildfire\",\"hellfire\",\"fire\",\"truck fire\",\"wild fires\",\"wild% fires\",\"bush% fires\",\"bush fires\",\"forest% fires\",\"forest fires\",\"arson\",\"arsonist\",\"burning\",\"ablaze\",\"blazing\",\"blaze\",\"burned\"]\\\n",
    "               ,\"Accident\": [\"accident\",\"airplane accident\",\"bridge collapse\",\"oil spill\",\"oil% spill\",\"collapse\",\"electrocuted\",\"electrocute\",\"cliff fall\",\"cliff% fall\",\"traped\",\"trapped\",\"collapsed\",\"crashed\",\"crushed\",\"crush\",\"wrecked\",\"wreckage\",\"wreck\",\"collide\",\"collided\",\"collision\",\"crash\"]\\\n",
    "               ,\"Apocalypse\": [\"apocalypse\",\"armageddon\",\"annihilated\",\"annihilation\",\"catastrophic\",\"famine\",\"ruin\",\"catastrophe\",\"razed\",\"devastation\",\"disaster\",\"heat% wave\",\"heat wave\",\"pandemonium\",\"destruction\",\"desolation\",\"desolate\",\"destroyed\",\"destroy\",\"blight\",\"demolition\"]\\\n",
    "               ,\"Attack\": [\"terrorism\",\"bioterror\",\"bioterrorism\",\"terrorist\",\"threat\",\"hijacker\",\"hijacking\",\"mass% murderer\",\"mass% murder\",\"mass murder\",\"mass murderer\",\"massacre\",\"massac\",\"hostage\",\"attack\",\"hijack\",\"attacked\",\"detonate\",\"suicide% bomber\",\"suicide bomber\",\"suicide bomb\",\"blown up\",\"blown% up\",\"suicide bombing\",\"blew% up\",\"blew up\", \"blow up\",\"bombing\",\"bomb\",\"bombed\",\"exploded\",\"explosion\",\"explode\"]\\\n",
    "               ,\"Fatality\": [\"fatality\",\"fatal\",\"fatalities\",\"casualty\",\"casualties\",\"deaths\",\"death\",\"drown\",\"drowned\", \"drowning\",\"drownet\",\"tragedy\",\"trauma\",\"traumatised\",\"blood\",\"bleeding\",\"dead\",\"bloody\",\"body bagging\",\"body bag\",\"body% bag\",\"body bags\",\"body% bagging\",\"body% bags\",\"sunk\"]\\\n",
    "               ,\"Natural Phenomenon\": [\"thunderstorm\",\"storm\",\"twister\",\"typhoon\",\"hurricane\",\"tornado\",\"windstorm\",\"rainstorm\",\"sandstorm\",\"hailstorm\",\"hail\",\"earthquake\",\"flooding\",\"mudslide\",\"seismic\",\"floods\",\"inundated\",\"inundation\",\"landslide\",\"lava\",\"lightning\",\"flood\",\"thunder\",\"tsunami\",\"cyclone\",\"deluge\",\"snowstorm\",\"avalanche\",\"blizzard\",\"whirlwind\",\"volcano\",\"drought\"]\\\n",
    "               ,\"Survivor\": [\"survivors\",\"survivor\",\"survive\",\"survived\",\"refugees\",\"rescue\",\"rescued\",\"rescuers\",\"wounded\",\"deluged\",\"derailed\",\"flattened\",\"harm\"]\\\n",
    "               ,\"Security\": [\"army\",\"battle\",\"military\",\"police\",\"weapons\",\"weapon\",\"war zone\",\"war% zone\",\"hostages\",\"mayhem\",\"detonation\",\"devastated\",\"displaced\",\"first responders\",\"first% responders\",\"eyewitness\",\"engulfed\",\"injured\",\"injuries\",\"injury\",\"obliterate\",\"obliterated\",\"obliteration\"]\\\n",
    "               ,\"Danger\": [\"danger\",\"damage\",\"curfew\",\"debris\",\"trouble\",\"demolish\",\"meltdown\",\"aftershock\",\"nuclear% reactor\",\"nuclear reactor\",\"structural% failure\",\"structural failure\",\"smoke\",\"rubble\",\"sinking\",\"sinkhole\",\"hazardous\",\"hazard\",\"fear\",\"demolished\",\"derail\",\"derailet\",\"derailment\",\"epicentre\",\"loud% bang\",\"loud bang\",\"rioting\",\"riot\"]\\\n",
    "               ,\"Emergency\": [\"emergency\",\"services emergency\",\"plan emergency\",\"ambulance\",\"chemical emergency\",\"evacuate\",\"upheaval\",\"sirens\",\"wounds\",\"siren\",\"stretcher\",\"evacuated\",\"evacuation\",\"outbreak\",\"panic\",\"screamed\",\"screaming\",\"screams\",\"panicking\",\"quarantine\",\"quarantined\"]\\\n",
    "               ,\"Otro\": [\"other\"]}\n",
    "key_depuradas=[]\n",
    "keyword_processor.add_keywords_from_dict(keyword_dict)\n",
    "for w in mis_kw:\n",
    "       if len(keyword_processor.extract_keywords(w))==1:\n",
    "            key_depuradas.append(keyword_processor.extract_keywords(w)[0])\n",
    "       \n",
    "       else: \n",
    "            key_depuradas.append(w)"
   ]
  },
  {
   "cell_type": "code",
   "execution_count": 87,
   "metadata": {},
   "outputs": [],
   "source": [
    "train.insert(loc=train.shape[1] - 1, column='key_global', value = key_depuradas)"
   ]
  },
  {
   "cell_type": "code",
   "execution_count": 88,
   "metadata": {},
   "outputs": [],
   "source": [
    "key_aux = test.loc[test['keyword']=='other',['keyword','text']]\n",
    "key_aux['text'] = key_aux['text'].map(lambda x: x.lower())\n",
    "key_aux['text'] = key_aux['text'].map(lambda x: x.split())\n",
    "key_aux['keyword']= key_aux['text'].map(encuentra_key)"
   ]
  },
  {
   "cell_type": "code",
   "execution_count": 89,
   "metadata": {},
   "outputs": [],
   "source": [
    "test.loc[test['keyword']=='other','keyword'] = key_aux['keyword']"
   ]
  },
  {
   "cell_type": "code",
   "execution_count": 90,
   "metadata": {},
   "outputs": [],
   "source": [
    "mis_kw = test['keyword']"
   ]
  },
  {
   "cell_type": "code",
   "execution_count": 91,
   "metadata": {},
   "outputs": [],
   "source": [
    "keyword_processor = KeywordProcessor()\n",
    "key_depuradas=[]\n",
    "keyword_processor.add_keywords_from_dict(keyword_dict)\n",
    "for w in mis_kw:\n",
    "       if len(keyword_processor.extract_keywords(w))==1:\n",
    "            key_depuradas.append(keyword_processor.extract_keywords(w)[0])\n",
    "       \n",
    "       else: \n",
    "            key_depuradas.append(w)"
   ]
  },
  {
   "cell_type": "code",
   "execution_count": 92,
   "metadata": {},
   "outputs": [],
   "source": [
    "test.insert(loc=test.shape[1], column='key_global', value = key_depuradas)"
   ]
  },
  {
   "cell_type": "code",
   "execution_count": 93,
   "metadata": {},
   "outputs": [],
   "source": [
    "train.key_global = train.key_global.astype('category')\n",
    "test.key_global = test.key_global.astype('category')"
   ]
  },
  {
   "cell_type": "code",
   "execution_count": 94,
   "metadata": {},
   "outputs": [],
   "source": [
    "mi_lista=[]\n",
    "mi_lista = list(train['text'])\n",
    "def encuentra_RT(tweet): \n",
    "        count = 0\n",
    "        for i in mi_lista:\n",
    "            if i==tweet:\n",
    "                count +=1\n",
    "            if count >= 2:\n",
    "                return 1\n",
    "        else:\n",
    "            return 0\n",
    "\n",
    "train.insert(loc=train.shape[1] - 1, column='retweet_bool', value = 0)\n",
    "train['retweet_bool'] = train['text'].map(encuentra_RT)"
   ]
  },
  {
   "cell_type": "code",
   "execution_count": 95,
   "metadata": {},
   "outputs": [],
   "source": [
    "mi_lista=[]\n",
    "mi_lista = list(test['text'])\n",
    "\n",
    "test.insert(loc=test.shape[1], column='retweet_bool', value = 0)\n",
    "test['retweet_bool'] = test['text'].map(encuentra_RT)"
   ]
  },
  {
   "cell_type": "code",
   "execution_count": 96,
   "metadata": {},
   "outputs": [],
   "source": [
    "# text preprocessing function\n",
    "def text_preprocessing(text):\n",
    "    text = text.lower()\n",
    "    tokenizer = nltk.tokenize.RegexpTokenizer(r'\\w+')\n",
    "    tokenized_text = tokenizer.tokenize(text)\n",
    "    remove_stopwords = [w for w in tokenized_text if w not in stopwords.words('english')]\n",
    "    combined_text = ' '.join(remove_stopwords)\n",
    "    return combined_text"
   ]
  },
  {
   "cell_type": "code",
   "execution_count": 97,
   "metadata": {},
   "outputs": [],
   "source": [
    "train['text'] = train['text'].apply(lambda x : text_preprocessing(x))\n",
    "test['text'] = test['text'].apply(lambda x : text_preprocessing(x))"
   ]
  },
  {
   "cell_type": "markdown",
   "metadata": {},
   "source": [
    "# * Fin agregado de features de tp1 *"
   ]
  },
  {
   "cell_type": "markdown",
   "metadata": {},
   "source": [
    "Hagamos la funcion para guardar submissions ahora, para evitar problemas a futuro y despreocuparnos."
   ]
  },
  {
   "cell_type": "code",
   "execution_count": 98,
   "metadata": {},
   "outputs": [],
   "source": [
    "# To save predictions.\n",
    "# There must be a directory ../predictions for this to work as expected.\n",
    "import time\n",
    "def _get_filename(my_name, timestamp):\n",
    "    return \"../predictions/\" + timestamp + \" by \" + my_name + \".csv\"\n",
    "\n",
    "def _save_description(authors_name, timestamp, submission_description):\n",
    "    f = open(\"../predictions/\" + authors_name + \".txt\",\"a\")\n",
    "    f.write(timestamp + \": \" + submission_description + '\\n')\n",
    "    f.close()\n",
    "\n",
    "def save_submission(submission_df, authors_name=\"fc\", description = \"no description.\", index=False, header=True):\n",
    "    timestamp = time.strftime(\"%Y.%m.%d - %H:%M:%S\")\n",
    "    submission_df.to_csv(_get_filename(authors_name, timestamp), index=index, header=header)\n",
    "    _save_description(authors_name, timestamp, description)"
   ]
  },
  {
   "cell_type": "code",
   "execution_count": 99,
   "metadata": {},
   "outputs": [],
   "source": [
    "# Define a seed, so all algorithms that accept a seed, take the same, for consistency reasons,\n",
    "# so everything can be replicated without problems random state\n",
    "seed=42"
   ]
  },
  {
   "cell_type": "code",
   "execution_count": 100,
   "metadata": {},
   "outputs": [],
   "source": [
    "from sklearn.model_selection import train_test_split\n",
    "X_train, X_test, y_train, y_test = train_test_split(train.drop('target', axis=1), train['target'], test_size=0.33, random_state=seed)"
   ]
  },
  {
   "cell_type": "markdown",
   "metadata": {},
   "source": [
    "***"
   ]
  },
  {
   "cell_type": "markdown",
   "metadata": {},
   "source": [
    "# Approach 1 - RidgeClassifier basico"
   ]
  },
  {
   "cell_type": "markdown",
   "metadata": {},
   "source": [
    "## Entrenamiento local"
   ]
  },
  {
   "cell_type": "code",
   "execution_count": 325,
   "metadata": {},
   "outputs": [
    {
     "name": "stdout",
     "output_type": "stream",
     "text": [
      "[Pipeline] ......... (step 1 of 2) Processing col_trans, total=   1.2s\n",
      "[Pipeline] ................ (step 2 of 2) Processing rc, total=   3.7s\n",
      "F1 Score: 0.7962022116281209\n",
      "Precision: 0.8017705316266468\n",
      "Recall: 0.7930742597295192\n"
     ]
    }
   ],
   "source": [
    "cat_columns = ['key_global']\n",
    "\n",
    "num_columns = [\n",
    "#     'id',\n",
    "    'tags_count', 'links_count',\n",
    "    'hashtags_count', 'text_len', 'word_count', 'stop_word_count',\n",
    "    'punctuation_count', 'caps_count', 'caps_ratio'\n",
    "    ]\n",
    "\n",
    "bool_columns = ['retweet_bool']\n",
    "\n",
    "text_columns = ['keyword',\n",
    "                'text',\n",
    "                #'text_clean'\n",
    "               ]\n",
    "\n",
    "from sklearn.pipeline import Pipeline\n",
    "from sklearn.compose import ColumnTransformer\n",
    "\n",
    "from sklearn.impute import SimpleImputer\n",
    "from sklearn.preprocessing import OneHotEncoder\n",
    "from sklearn.preprocessing import StandardScaler\n",
    "from sklearn.feature_extraction.text import HashingVectorizer\n",
    "from sklearn.decomposition import TruncatedSVD\n",
    "\n",
    "transformers = []\n",
    "\n",
    "transformers.append((\"cat\",\n",
    "                     Pipeline(steps=[\n",
    "                         (\"category_imputer\", SimpleImputer(strategy='constant', fill_value=\"\")),\n",
    "                         (\"one_hot\", OneHotEncoder(handle_unknown='ignore')),\n",
    "                         #(\"svd\", TruncatedSVD(n_components=4, n_iter=7, random_state=seed))\n",
    "                     ]),\n",
    "                     cat_columns))\n",
    "\n",
    "#transformaciones para los numeros, simple imputer para los misssing values y standard scaler\n",
    "#tal que la distribución tenga un valor medio 0 y una desviación estándar de 1.\n",
    "transformers.append((\"num\",\n",
    "                     Pipeline(steps=[\n",
    "                         (\"num_imputer\", SimpleImputer(strategy='most_frequent',verbose=1)),\n",
    "                         (\"num_transformer\", StandardScaler())\n",
    "                     ]),\n",
    "                   num_columns))\n",
    "\n",
    "transformers.append((\"bool\",\n",
    "                    Pipeline(steps=[\n",
    "                        (\"bool_imputer\", SimpleImputer(strategy='most_frequent')),\n",
    "                    ]),\n",
    "                     bool_columns))\n",
    "\n",
    "# The reason this for is necessary is because text transformers take an array-like parameter.\n",
    "# If we pass a list of columns, then the transformer will receive a dataframe, and that will result in error.\n",
    "# If you don't want to process all the text columns with the same pipeline, you'll have to define\n",
    "# a different pipelines for each, and pass a different list for each of the pipelines.\n",
    "\n",
    "#hashing vectorizer devuelve una matriz de un texto convertido y la SVD reduce su dimension para poder trabajarlo\n",
    "for col in text_columns:\n",
    "    # First, fill empty texts with an empty string.\n",
    "    X_train[col] = X_train[col].fillna(\"\")\n",
    "    X_test[col] = X_test[col].fillna(\"\")\n",
    "    train[col] = train[col].fillna(\"\")\n",
    "    test[col] = test[col].fillna(\"\")\n",
    "    transformer_name = \"text_\" + col\n",
    "    transformers.append((transformer_name,\n",
    "                        Pipeline(steps=[\n",
    "                            (\"tf_idf\", TfidfVectorizer(min_df=2, max_df=0.5, ngram_range=(1, 2))),\n",
    "                            #(\"hashing_vectorizer\", HashingVectorizer(decode_error='replace', strip_accents='ascii')),\n",
    "                            #(\"svd\", TruncatedSVD(n_components=40, n_iter=7, random_state=seed))\n",
    "                        ]),\n",
    "                         col))\n",
    "\n",
    "my_col_transformer = ColumnTransformer(transformers, remainder='drop', sparse_threshold=0.3, \n",
    "                                       n_jobs=-1, \n",
    "                                       transformer_weights=None)\n",
    "\n",
    "steps = []\n",
    "\n",
    "steps.append((\"col_trans\", my_col_transformer))\n",
    "\n",
    "\n",
    "#algoritmo a usar\n",
    "from sklearn import feature_extraction, linear_model, model_selection, preprocessing\n",
    "clf = linear_model.RidgeClassifier()\n",
    "steps.append((\"rc\", clf))\n",
    "\n",
    "my_pipe = Pipeline(steps, verbose=True)\n",
    "\n",
    "my_pipe.fit(X_train, y_train)\n",
    "\n",
    "y_scores = my_pipe.predict(X_test)\n",
    "\n",
    "#metrica a utilizar\n",
    "from sklearn.metrics import accuracy_score, f1_score, precision_score, recall_score, classification_report, confusion_matrix\n",
    "print(\"F1 Score: \" + str(f1_score(y_test, y_scores, average=\"macro\")))\n",
    "print(\"Precision: \" + str(precision_score(y_test, y_scores, average=\"macro\")))\n",
    "print(\"Recall: \" + str(recall_score(y_test, y_scores, average=\"macro\")))"
   ]
  },
  {
   "cell_type": "code",
   "execution_count": 326,
   "metadata": {},
   "outputs": [],
   "source": [
    "beep()"
   ]
  },
  {
   "cell_type": "markdown",
   "metadata": {},
   "source": [
    "## Entrenamiento con todos los datos para obtener predicciones a subir"
   ]
  },
  {
   "cell_type": "code",
   "execution_count": 327,
   "metadata": {},
   "outputs": [],
   "source": [
    "X = train.drop(['target'], axis=1) #set de datos\n",
    "y = train['target'] #target"
   ]
  },
  {
   "cell_type": "code",
   "execution_count": 328,
   "metadata": {},
   "outputs": [
    {
     "name": "stdout",
     "output_type": "stream",
     "text": [
      "[Pipeline] ......... (step 1 of 2) Processing col_trans, total=   1.2s\n",
      "[Pipeline] ................ (step 2 of 2) Processing rc, total=   3.9s\n"
     ]
    }
   ],
   "source": [
    "my_pipe.fit(X,y)\n",
    "\n",
    "# prediciendo valores\n",
    "predictions = my_pipe.predict(test)"
   ]
  },
  {
   "cell_type": "code",
   "execution_count": 329,
   "metadata": {},
   "outputs": [],
   "source": [
    "df_predictions = pd.DataFrame(data={'id':test['id'], 'target':predictions})"
   ]
  },
  {
   "cell_type": "code",
   "execution_count": 330,
   "metadata": {},
   "outputs": [],
   "source": [
    "description = \"1st approach. RidgeClassifier_hash_vect_no_svd\"\n",
    "save_submission(df_predictions, description=description)"
   ]
  },
  {
   "cell_type": "code",
   "execution_count": 159,
   "metadata": {},
   "outputs": [],
   "source": [
    "beep()"
   ]
  },
  {
   "cell_type": "markdown",
   "metadata": {},
   "source": [
    "## K folds en nuestro train set"
   ]
  },
  {
   "cell_type": "code",
   "execution_count": null,
   "metadata": {},
   "outputs": [],
   "source": [
    "from sklearn.model_selection import KFold\n",
    "kf = KFold(n_splits=3, shuffle=True, random_state=seed)\n",
    "\n",
    "df = pd.DataFrame([])\n",
    "\n",
    "# UPDATE THIS VALUE\n",
    "approach_numer = \"fcozza_approach_1_b\"\n",
    "\n",
    "for train_index, test_index in kf.split(train):\n",
    "    X = train.drop(['target'], axis=1) #set de datos\n",
    "    y = train['target'] #target\n",
    "    # for loop copied from docs: https://scikit-learn.org/stable/modules/generated/sklearn.model_selection.KFold.html#sklearn.model_selection.KFold\n",
    "    X_train2, X_test2 = X.iloc[train_index], X.iloc[test_index]\n",
    "    y_train2, y_test2 = y[train_index], y[test_index]\n",
    "    \n",
    "    my_pipe.fit(X_train2, y_train2)\n",
    "    y_scores = my_pipe.predict(X_test2)\n",
    "    \n",
    "    #print(mean_absolute_error(y_test2, y_scores))\n",
    "    \n",
    "    df = df.append(pd.DataFrame(data={'id':X_test2['id'], approach_numer:y_scores}))\n",
    "\n",
    "df.to_csv(\"../predictions/on_train_data/\" + approach_numer + \".csv\", index=False, header=True)"
   ]
  },
  {
   "cell_type": "markdown",
   "metadata": {},
   "source": [
    "***"
   ]
  },
  {
   "cell_type": "markdown",
   "metadata": {},
   "source": [
    "# Approach 2 - LogisticRegressor basico"
   ]
  },
  {
   "cell_type": "markdown",
   "metadata": {},
   "source": [
    "## Entrenamiento local"
   ]
  },
  {
   "cell_type": "code",
   "execution_count": null,
   "metadata": {},
   "outputs": [],
   "source": [
    "cat_columns = ['key_global']\n",
    "\n",
    "num_columns = [\n",
    "#     'id',\n",
    "    'tags_count', 'links_count',\n",
    "    'hashtags_count', 'text_len', 'word_count', 'stop_word_count',\n",
    "    'punctuation_count', 'caps_count', 'caps_ratio'\n",
    "    ]\n",
    "\n",
    "bool_columns = ['retweet_bool']\n",
    "\n",
    "text_columns = ['keyword',\n",
    "                'text',\n",
    "                'text_clean'\n",
    "               ]\n",
    "\n",
    "from sklearn.pipeline import Pipeline\n",
    "from sklearn.compose import ColumnTransformer\n",
    "\n",
    "from sklearn.impute import SimpleImputer\n",
    "from sklearn.preprocessing import OneHotEncoder\n",
    "from sklearn.preprocessing import StandardScaler\n",
    "from sklearn.feature_extraction.text import HashingVectorizer\n",
    "from sklearn.decomposition import TruncatedSVD\n",
    "\n",
    "transformers = []\n",
    "\n",
    "transformers.append((\"cat\",\n",
    "                     Pipeline(steps=[\n",
    "                         (\"category_imputer\", SimpleImputer(strategy='constant', fill_value=\"\")),\n",
    "                         (\"one_hot\", OneHotEncoder(handle_unknown='ignore')),\n",
    "                         #(\"svd\", TruncatedSVD(n_components=4, n_iter=7, random_state=seed))\n",
    "                     ]),\n",
    "                     cat_columns))\n",
    "\n",
    "#transformaciones para los numeros, simple imputer para los misssing values y standard scaler\n",
    "#tal que la distribución tenga un valor medio 0 y una desviación estándar de 1.\n",
    "transformers.append((\"num\",\n",
    "                     Pipeline(steps=[\n",
    "                         (\"num_imputer\", SimpleImputer(strategy='most_frequent',verbose=1)),\n",
    "                         (\"num_transformer\", StandardScaler())\n",
    "                     ]),\n",
    "                   num_columns))\n",
    "\n",
    "transformers.append((\"bool\",\n",
    "                    Pipeline(steps=[\n",
    "                        (\"bool_imputer\", SimpleImputer(strategy='most_frequent')),\n",
    "                    ]),\n",
    "                     bool_columns))\n",
    "\n",
    "# The reason this for is necessary is because text transformers take an array-like parameter.\n",
    "# If we pass a list of columns, then the transformer will receive a dataframe, and that will result in error.\n",
    "# If you don't want to process all the text columns with the same pipeline, you'll have to define\n",
    "# a different pipelines for each, and pass a different list for each of the pipelines.\n",
    "\n",
    "#hashing vectorizer devuelve una matriz de un texto convertido y la SVD reduce su dimension para poder trabajarlo\n",
    "for col in text_columns:\n",
    "    # First, fill empty texts with an empty string.\n",
    "    X_train[col] = X_train[col].fillna(\"\")\n",
    "    X_test[col] = X_test[col].fillna(\"\")\n",
    "    train[col] = train[col].fillna(\"\")\n",
    "    test[col] = test[col].fillna(\"\")\n",
    "    transformer_name = \"text_\" + col\n",
    "    transformers.append((transformer_name,\n",
    "                        Pipeline(steps=[\n",
    "                            (\"hashing_vectorizer\", HashingVectorizer(decode_error='replace', strip_accents='ascii')),\n",
    "                            (\"svd\", TruncatedSVD(n_components=40, n_iter=7, random_state=seed))\n",
    "                        ]),\n",
    "                         col))\n",
    "\n",
    "my_col_transformer = ColumnTransformer(transformers, remainder='drop', sparse_threshold=0.3, \n",
    "                                       n_jobs=-1, \n",
    "                                       transformer_weights=None)\n",
    "\n",
    "steps = []\n",
    "\n",
    "steps.append((\"col_trans\", my_col_transformer))\n",
    "\n",
    "\n",
    "#algoritmo a usar\n",
    "from sklearn import feature_extraction, linear_model, model_selection, preprocessing\n",
    "from sklearn.linear_model import LogisticRegression\n",
    "clf = LogisticRegression(C=1.0)\n",
    "steps.append((\"lr\", clf))\n",
    "\n",
    "my_pipe = Pipeline(steps, verbose=True)\n",
    "\n",
    "my_pipe.fit(X_train, y_train)\n",
    "\n",
    "y_scores = my_pipe.predict(X_test)\n",
    "\n",
    "#metrica a utilizar\n",
    "from sklearn.metrics import accuracy_score, f1_score, precision_score, recall_score, classification_report, confusion_matrix\n",
    "print(\"F1 Score: \" + str(f1_score(y_test, y_scores, average=\"macro\")))\n",
    "print(\"Precision: \" + str(precision_score(y_test, y_scores, average=\"macro\")))\n",
    "print(\"Recall: \" + str(recall_score(y_test, y_scores, average=\"macro\")))"
   ]
  },
  {
   "cell_type": "code",
   "execution_count": null,
   "metadata": {},
   "outputs": [],
   "source": [
    "beep()"
   ]
  },
  {
   "cell_type": "markdown",
   "metadata": {},
   "source": [
    "## Entrenamiento con todos los datos para obtener predicciones a subir"
   ]
  },
  {
   "cell_type": "code",
   "execution_count": null,
   "metadata": {},
   "outputs": [],
   "source": [
    "X = train.drop(['target'], axis=1) #set de datos\n",
    "y = train['target'] #target"
   ]
  },
  {
   "cell_type": "code",
   "execution_count": null,
   "metadata": {},
   "outputs": [],
   "source": [
    "my_pipe.fit(X,y)\n",
    "\n",
    "# prediciendo valores\n",
    "predictions = my_pipe.predict(test)"
   ]
  },
  {
   "cell_type": "code",
   "execution_count": null,
   "metadata": {},
   "outputs": [],
   "source": [
    "df_predictions = pd.DataFrame(data={'id':test['id'], 'target':predictions})"
   ]
  },
  {
   "cell_type": "code",
   "execution_count": null,
   "metadata": {},
   "outputs": [],
   "source": [
    "description = \"2 approach. LogisticRegression\"\n",
    "save_submission(df_predictions, description=description)"
   ]
  },
  {
   "cell_type": "code",
   "execution_count": null,
   "metadata": {},
   "outputs": [],
   "source": [
    "beep()"
   ]
  },
  {
   "cell_type": "markdown",
   "metadata": {},
   "source": [
    "## K folds en nuestro train set"
   ]
  },
  {
   "cell_type": "code",
   "execution_count": null,
   "metadata": {},
   "outputs": [],
   "source": [
    "from sklearn.model_selection import KFold\n",
    "kf = KFold(n_splits=3, shuffle=True, random_state=seed)\n",
    "\n",
    "df = pd.DataFrame([])\n",
    "\n",
    "# UPDATE THIS VALUE\n",
    "approach_numer = \"fcozza_approach_1_b\"\n",
    "\n",
    "for train_index, test_index in kf.split(train):\n",
    "    X = train.drop(['target'], axis=1) #set de datos\n",
    "    y = train['target'] #target\n",
    "    # for loop copied from docs: https://scikit-learn.org/stable/modules/generated/sklearn.model_selection.KFold.html#sklearn.model_selection.KFold\n",
    "    X_train2, X_test2 = X.iloc[train_index], X.iloc[test_index]\n",
    "    y_train2, y_test2 = y[train_index], y[test_index]\n",
    "    \n",
    "    my_pipe.fit(X_train2, y_train2)\n",
    "    y_scores = my_pipe.predict(X_test2)\n",
    "    \n",
    "    #print(mean_absolute_error(y_test2, y_scores))\n",
    "    \n",
    "    df = df.append(pd.DataFrame(data={'id':X_test2['id'], approach_numer:y_scores}))\n",
    "\n",
    "df.to_csv(\"../predictions/on_train_data/\" + approach_numer + \".csv\", index=False, header=True)"
   ]
  },
  {
   "cell_type": "markdown",
   "metadata": {},
   "source": [
    "***"
   ]
  },
  {
   "cell_type": "markdown",
   "metadata": {},
   "source": [
    "# Approach 3 - XGBoost"
   ]
  },
  {
   "cell_type": "markdown",
   "metadata": {},
   "source": [
    "## Entrenamiento local"
   ]
  },
  {
   "cell_type": "code",
   "execution_count": 39,
   "metadata": {},
   "outputs": [
    {
     "name": "stdout",
     "output_type": "stream",
     "text": [
      "[Pipeline] ......... (step 1 of 2) Processing col_trans, total=  26.6s\n",
      "[Pipeline] ............... (step 2 of 2) Processing xgb, total=   2.4s\n",
      "F1 Score: 0.7521221721294831\n",
      "Precision: 0.762154752081101\n",
      "Recall: 0.7483245640301721\n"
     ]
    }
   ],
   "source": [
    "cat_columns = ['key_global']\n",
    "\n",
    "num_columns = [\n",
    "#     'id',\n",
    "    'tags_count', 'links_count',\n",
    "    'hashtags_count', 'text_len', 'word_count', 'stop_word_count',\n",
    "    'punctuation_count', 'caps_count', 'caps_ratio'\n",
    "    ]\n",
    "\n",
    "bool_columns = ['retweet_bool']\n",
    "\n",
    "text_columns = ['keyword',\n",
    "                'text',\n",
    "                'text_clean'\n",
    "               ]\n",
    "\n",
    "from sklearn.pipeline import Pipeline\n",
    "from sklearn.compose import ColumnTransformer\n",
    "\n",
    "from sklearn.impute import SimpleImputer\n",
    "from sklearn.preprocessing import OneHotEncoder\n",
    "from sklearn.preprocessing import StandardScaler\n",
    "from sklearn.feature_extraction.text import HashingVectorizer\n",
    "from sklearn.decomposition import TruncatedSVD\n",
    "\n",
    "transformers = []\n",
    "\n",
    "transformers.append((\"cat\",\n",
    "                     Pipeline(steps=[\n",
    "                         (\"category_imputer\", SimpleImputer(strategy='constant', fill_value=\"\")),\n",
    "                         (\"one_hot\", OneHotEncoder(handle_unknown='ignore')),\n",
    "                         #(\"svd\", TruncatedSVD(n_components=4, n_iter=7, random_state=seed))\n",
    "                     ]),\n",
    "                     cat_columns))\n",
    "\n",
    "#transformaciones para los numeros, simple imputer para los misssing values y standard scaler\n",
    "#tal que la distribución tenga un valor medio 0 y una desviación estándar de 1.\n",
    "transformers.append((\"num\",\n",
    "                     Pipeline(steps=[\n",
    "                         (\"num_imputer\", SimpleImputer(strategy='most_frequent',verbose=1)),\n",
    "                         (\"num_transformer\", StandardScaler())\n",
    "                     ]),\n",
    "                   num_columns))\n",
    "\n",
    "transformers.append((\"bool\",\n",
    "                    Pipeline(steps=[\n",
    "                        (\"bool_imputer\", SimpleImputer(strategy='most_frequent')),\n",
    "                    ]),\n",
    "                     bool_columns))\n",
    "\n",
    "# The reason this for is necessary is because text transformers take an array-like parameter.\n",
    "# If we pass a list of columns, then the transformer will receive a dataframe, and that will result in error.\n",
    "# If you don't want to process all the text columns with the same pipeline, you'll have to define\n",
    "# a different pipelines for each, and pass a different list for each of the pipelines.\n",
    "\n",
    "#hashing vectorizer devuelve una matriz de un texto convertido y la SVD reduce su dimension para poder trabajarlo\n",
    "for col in text_columns:\n",
    "    # First, fill empty texts with an empty string.\n",
    "    X_train[col] = X_train[col].fillna(\"\")\n",
    "    X_test[col] = X_test[col].fillna(\"\")\n",
    "    train[col] = train[col].fillna(\"\")\n",
    "    test[col] = test[col].fillna(\"\")\n",
    "    transformer_name = \"text_\" + col\n",
    "    transformers.append((transformer_name,\n",
    "                        Pipeline(steps=[\n",
    "                            (\"hashing_vectorizer\", HashingVectorizer(decode_error='replace', strip_accents='ascii')),\n",
    "                            (\"svd\", TruncatedSVD(n_components=40, n_iter=7, random_state=seed))\n",
    "                        ]),\n",
    "                         col))\n",
    "\n",
    "my_col_transformer = ColumnTransformer(transformers, remainder='drop', sparse_threshold=0.3, \n",
    "                                       n_jobs=-1, \n",
    "                                       transformer_weights=None)\n",
    "\n",
    "steps = []\n",
    "\n",
    "steps.append((\"col_trans\", my_col_transformer))\n",
    "\n",
    "\n",
    "#algoritmo a usar\n",
    "from sklearn import feature_extraction, linear_model, model_selection, preprocessing\n",
    "import xgboost as xgb\n",
    "clf = xgb.XGBClassifier(max_depth=7, n_estimators=200, colsample_bytree=0.8, \n",
    "                        subsample=0.8, nthread=10, learning_rate=0.1)\n",
    "steps.append((\"xgb\", clf))\n",
    "\n",
    "my_pipe = Pipeline(steps, verbose=True)\n",
    "\n",
    "my_pipe.fit(X_train, y_train)\n",
    "\n",
    "y_scores = my_pipe.predict(X_test)\n",
    "\n",
    "#metrica a utilizar\n",
    "from sklearn.metrics import accuracy_score, f1_score, precision_score, recall_score, classification_report, confusion_matrix\n",
    "print(\"F1 Score: \" + str(f1_score(y_test, y_scores, average=\"macro\")))\n",
    "print(\"Precision: \" + str(precision_score(y_test, y_scores, average=\"macro\")))\n",
    "print(\"Recall: \" + str(recall_score(y_test, y_scores, average=\"macro\")))"
   ]
  },
  {
   "cell_type": "markdown",
   "metadata": {},
   "source": [
    "## Feature selection"
   ]
  },
  {
   "cell_type": "code",
   "execution_count": 40,
   "metadata": {},
   "outputs": [
    {
     "data": {
      "text/plain": [
       "<matplotlib.axes._subplots.AxesSubplot at 0x7f53de88d748>"
      ]
     },
     "execution_count": 40,
     "metadata": {},
     "output_type": "execute_result"
    },
    {
     "data": {
      "image/png": "[encoded data removed]",
      "text/plain": [
       "<Figure size 864x2304 with 1 Axes>"
      ]
     },
     "metadata": {
      "needs_background": "light"
     },
     "output_type": "display_data"
    }
   ],
   "source": [
    "fig, ax = plt.subplots(figsize=(12, 32))\n",
    "xgb.plot_importance(clf, ax=ax)"
   ]
  },
  {
   "cell_type": "markdown",
   "metadata": {},
   "source": [
    "Features de poco puntaje: id, keyword, text, text_clean, tags_count, links_count, hastags_count,\n",
    "                          text_len, stop_word_count, caps_count, caps_ratio, key_global \n",
    "                          \n",
    "Es decir que podemos intentar remover algunas de las features referidas a los counts para ver si mejora el puntaje y luego empezar a trabajar en remover stopwords del texto etc"
   ]
  },
  {
   "cell_type": "markdown",
   "metadata": {},
   "source": [
    "## Removiendo features "
   ]
  },
  {
   "cell_type": "code",
   "execution_count": 46,
   "metadata": {},
   "outputs": [],
   "source": [
    "X_train.drop(['id', 'tags_count', 'links_count', 'hashtags_count', 'text_len', 'stop_word_count',\\\n",
    "             'caps_count', 'caps_ratio'],axis=1,inplace=True)"
   ]
  },
  {
   "cell_type": "code",
   "execution_count": 49,
   "metadata": {},
   "outputs": [
    {
     "name": "stdout",
     "output_type": "stream",
     "text": [
      "[Pipeline] ......... (step 1 of 2) Processing col_trans, total=  26.8s\n",
      "[Pipeline] ............... (step 2 of 2) Processing xgb, total=   2.2s\n",
      "F1 Score: 0.7590820675364929\n",
      "Precision: 0.7676254479434997\n",
      "Recall: 0.7554764395462518\n"
     ]
    }
   ],
   "source": [
    "cat_columns = ['key_global']\n",
    "\n",
    "num_columns = [\n",
    "#     'id',\n",
    "    #'tags_count', 'links_count',\n",
    "    #'hashtags_count', 'text_len', \n",
    "    'word_count',\n",
    "    #'stop_word_count',\n",
    "    'punctuation_count'\n",
    "    #, 'caps_count', 'caps_ratio'\n",
    "    ]\n",
    "\n",
    "bool_columns = ['retweet_bool']\n",
    "\n",
    "text_columns = ['keyword',\n",
    "                'text',\n",
    "                'text_clean'\n",
    "               ]\n",
    "\n",
    "from sklearn.pipeline import Pipeline\n",
    "from sklearn.compose import ColumnTransformer\n",
    "\n",
    "from sklearn.impute import SimpleImputer\n",
    "from sklearn.preprocessing import OneHotEncoder\n",
    "from sklearn.preprocessing import StandardScaler\n",
    "from sklearn.feature_extraction.text import HashingVectorizer\n",
    "from sklearn.decomposition import TruncatedSVD\n",
    "\n",
    "transformers = []\n",
    "\n",
    "transformers.append((\"cat\",\n",
    "                     Pipeline(steps=[\n",
    "                         (\"category_imputer\", SimpleImputer(strategy='constant', fill_value=\"\")),\n",
    "                         (\"one_hot\", OneHotEncoder(handle_unknown='ignore')),\n",
    "                         #(\"svd\", TruncatedSVD(n_components=4, n_iter=7, random_state=seed))\n",
    "                     ]),\n",
    "                     cat_columns))\n",
    "\n",
    "#transformaciones para los numeros, simple imputer para los misssing values y standard scaler\n",
    "#tal que la distribución tenga un valor medio 0 y una desviación estándar de 1.\n",
    "transformers.append((\"num\",\n",
    "                     Pipeline(steps=[\n",
    "                         (\"num_imputer\", SimpleImputer(strategy='most_frequent',verbose=1)),\n",
    "                         (\"num_transformer\", StandardScaler())\n",
    "                     ]),\n",
    "                   num_columns))\n",
    "\n",
    "transformers.append((\"bool\",\n",
    "                    Pipeline(steps=[\n",
    "                        (\"bool_imputer\", SimpleImputer(strategy='most_frequent')),\n",
    "                    ]),\n",
    "                     bool_columns))\n",
    "\n",
    "# The reason this for is necessary is because text transformers take an array-like parameter.\n",
    "# If we pass a list of columns, then the transformer will receive a dataframe, and that will result in error.\n",
    "# If you don't want to process all the text columns with the same pipeline, you'll have to define\n",
    "# a different pipelines for each, and pass a different list for each of the pipelines.\n",
    "\n",
    "#hashing vectorizer devuelve una matriz de un texto convertido y la SVD reduce su dimension para poder trabajarlo\n",
    "for col in text_columns:\n",
    "    # First, fill empty texts with an empty string.\n",
    "    X_train[col] = X_train[col].fillna(\"\")\n",
    "    X_test[col] = X_test[col].fillna(\"\")\n",
    "    train[col] = train[col].fillna(\"\")\n",
    "    test[col] = test[col].fillna(\"\")\n",
    "    transformer_name = \"text_\" + col\n",
    "    transformers.append((transformer_name,\n",
    "                        Pipeline(steps=[\n",
    "                            (\"hashing_vectorizer\", HashingVectorizer(decode_error='replace', strip_accents='ascii')),\n",
    "                            (\"svd\", TruncatedSVD(n_components=40, n_iter=7, random_state=seed))\n",
    "                        ]),\n",
    "                         col))\n",
    "\n",
    "my_col_transformer = ColumnTransformer(transformers, remainder='drop', sparse_threshold=0.3, \n",
    "                                       n_jobs=-1, \n",
    "                                       transformer_weights=None)\n",
    "\n",
    "steps = []\n",
    "\n",
    "steps.append((\"col_trans\", my_col_transformer))\n",
    "\n",
    "\n",
    "#algoritmo a usar\n",
    "from sklearn import feature_extraction, linear_model, model_selection, preprocessing\n",
    "import xgboost as xgb\n",
    "clf = xgb.XGBClassifier(max_depth=7, n_estimators=200, colsample_bytree=0.8, \n",
    "                        subsample=0.8, nthread=10, learning_rate=0.1)\n",
    "steps.append((\"xgb\", clf))\n",
    "\n",
    "my_pipe = Pipeline(steps, verbose=True)\n",
    "\n",
    "my_pipe.fit(X_train, y_train)\n",
    "\n",
    "y_scores = my_pipe.predict(X_test)\n",
    "\n",
    "#metrica a utilizar\n",
    "from sklearn.metrics import accuracy_score, f1_score, precision_score, recall_score, classification_report, confusion_matrix\n",
    "print(\"F1 Score: \" + str(f1_score(y_test, y_scores, average=\"macro\")))\n",
    "print(\"Precision: \" + str(precision_score(y_test, y_scores, average=\"macro\")))\n",
    "print(\"Recall: \" + str(recall_score(y_test, y_scores, average=\"macro\")))"
   ]
  },
  {
   "cell_type": "markdown",
   "metadata": {},
   "source": [
    "El puntaje mejoro para XGBoost pero no para Ridge asi que este analisis de features no es del todo util en general"
   ]
  },
  {
   "cell_type": "code",
   "execution_count": 39,
   "metadata": {},
   "outputs": [],
   "source": [
    "beep()"
   ]
  },
  {
   "cell_type": "markdown",
   "metadata": {},
   "source": [
    "## Entrenamiento con todos los datos para obtener predicciones a subir"
   ]
  },
  {
   "cell_type": "code",
   "execution_count": 50,
   "metadata": {},
   "outputs": [],
   "source": [
    "X = train.drop(['target'], axis=1) #set de datos\n",
    "y = train['target'] #target"
   ]
  },
  {
   "cell_type": "code",
   "execution_count": 51,
   "metadata": {},
   "outputs": [
    {
     "name": "stdout",
     "output_type": "stream",
     "text": [
      "[Pipeline] ......... (step 1 of 2) Processing col_trans, total=  27.6s\n",
      "[Pipeline] ............... (step 2 of 2) Processing xgb, total=   3.0s\n"
     ]
    }
   ],
   "source": [
    "my_pipe.fit(X,y)\n",
    "\n",
    "# prediciendo valores\n",
    "predictions = my_pipe.predict(test)"
   ]
  },
  {
   "cell_type": "code",
   "execution_count": 52,
   "metadata": {},
   "outputs": [],
   "source": [
    "df_predictions = pd.DataFrame(data={'id':test['id'], 'target':predictions})"
   ]
  },
  {
   "cell_type": "code",
   "execution_count": 53,
   "metadata": {},
   "outputs": [],
   "source": [
    "description = \"3 approach. XGBoost_some_feat_select\"\n",
    "save_submission(df_predictions, description=description)"
   ]
  },
  {
   "cell_type": "code",
   "execution_count": 45,
   "metadata": {},
   "outputs": [],
   "source": [
    "beep()"
   ]
  },
  {
   "cell_type": "markdown",
   "metadata": {},
   "source": [
    "## K folds en nuestro train set"
   ]
  },
  {
   "cell_type": "code",
   "execution_count": 53,
   "metadata": {},
   "outputs": [
    {
     "name": "stdout",
     "output_type": "stream",
     "text": [
      "[Pipeline] ......... (step 1 of 2) Processing col_trans, total=  15.2s\n",
      "[Pipeline] ................ (step 2 of 2) Processing rc, total=   0.0s\n",
      "[Pipeline] ......... (step 1 of 2) Processing col_trans, total=  15.2s\n",
      "[Pipeline] ................ (step 2 of 2) Processing rc, total=   0.0s\n",
      "[Pipeline] ......... (step 1 of 2) Processing col_trans, total=  15.1s\n",
      "[Pipeline] ................ (step 2 of 2) Processing rc, total=   0.0s\n"
     ]
    }
   ],
   "source": [
    "from sklearn.model_selection import KFold\n",
    "kf = KFold(n_splits=3, shuffle=True, random_state=seed)\n",
    "\n",
    "df = pd.DataFrame([])\n",
    "\n",
    "# UPDATE THIS VALUE\n",
    "approach_numer = \"fcozza_approach_1_b\"\n",
    "\n",
    "for train_index, test_index in kf.split(train):\n",
    "    X = train.drop(['target'], axis=1) #set de datos\n",
    "    y = train['target'] #target\n",
    "    # for loop copied from docs: https://scikit-learn.org/stable/modules/generated/sklearn.model_selection.KFold.html#sklearn.model_selection.KFold\n",
    "    X_train2, X_test2 = X.iloc[train_index], X.iloc[test_index]\n",
    "    y_train2, y_test2 = y[train_index], y[test_index]\n",
    "    \n",
    "    my_pipe.fit(X_train2, y_train2)\n",
    "    y_scores = my_pipe.predict(X_test2)\n",
    "    \n",
    "    #print(mean_absolute_error(y_test2, y_scores))\n",
    "    \n",
    "    df = df.append(pd.DataFrame(data={'id':X_test2['id'], approach_numer:y_scores}))\n",
    "\n",
    "df.to_csv(\"../predictions/on_train_data/\" + approach_numer + \".csv\", index=False, header=True)"
   ]
  },
  {
   "cell_type": "markdown",
   "metadata": {},
   "source": [
    "***"
   ]
  }
 ],
 "metadata": {
  "kernelspec": {
   "display_name": "Python 3",
   "language": "python",
   "name": "python3"
  },
  "language_info": {
   "codemirror_mode": {
    "name": "ipython",
    "version": 3
   },
   "file_extension": ".py",
   "mimetype": "text/x-python",
   "name": "python",
   "nbconvert_exporter": "python",
   "pygments_lexer": "ipython3",
   "version": "3.7.0"
  }
 },
 "nbformat": 4,
 "nbformat_minor": 4
}
