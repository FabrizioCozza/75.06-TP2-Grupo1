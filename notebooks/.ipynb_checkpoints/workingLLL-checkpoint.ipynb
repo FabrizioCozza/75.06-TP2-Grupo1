{
 "cells": [
  {
   "cell_type": "code",
   "execution_count": 1,
   "metadata": {},
   "outputs": [],
   "source": [
    "import pandas as pd\n",
    "import numpy as np\n",
    "import beepy\n",
    "import re\n",
    "import string\n",
    "from wordcloud import STOPWORDS"
   ]
  },
  {
   "cell_type": "code",
   "execution_count": 2,
   "metadata": {},
   "outputs": [],
   "source": [
    "# This will allow you to see all column names & rows when you are doing .head(). None of the column name will be truncated.\n",
    "# source: https://stackoverflow.com/questions/49188960/how-to-show-all-of-columns-name-on-pandas-dataframe\n",
    "\n",
    "pd.set_option('display.max_columns', None)\n",
    "# pd.set_option('display.max_rows', None)"
   ]
  },
  {
   "cell_type": "code",
   "execution_count": 3,
   "metadata": {},
   "outputs": [],
   "source": [
    "train = pd.read_csv(\"data/train.csv\",usecols=[\"id\", \"keyword\", \"text\", \"target\"],dtype={'id':'int32','target':'int8'})\n",
    "test = pd.read_csv('data/test.csv',usecols=[\"id\", \"keyword\", \"text\"],dtype={'id':'int32'})\n",
    "sample_submission = pd.read_csv('data/sample_submission.csv')"
   ]
  },
  {
   "cell_type": "code",
   "execution_count": 4,
   "metadata": {},
   "outputs": [],
   "source": [
    "train.text = train.text.astype(str)\n",
    "train.keyword = train.keyword.astype(str)"
   ]
  },
  {
   "cell_type": "code",
   "execution_count": 5,
   "metadata": {},
   "outputs": [],
   "source": [
    "test.text = test.text.astype(str)\n",
    "test.keyword = test.keyword.astype(str)"
   ]
  },
  {
   "cell_type": "code",
   "execution_count": 6,
   "metadata": {},
   "outputs": [],
   "source": [
    "#traduzco los pocos casos que no estaban en ingles\n",
    "train.text = train.text.str.replace('Acesse nosso site para ouvir','Visit our website to listen')\n",
    "train.text = train.text.str.replace('quem lembra','who remembers')\n",
    "train.text = train.text.str.replace('Sismo DETECTADO','Earthquake DETECTED')"
   ]
  },
  {
   "cell_type": "markdown",
   "metadata": {},
   "source": [
    "# Agregamos features que ya hemos creado para analisis de tp1"
   ]
  },
  {
   "cell_type": "code",
   "execution_count": 7,
   "metadata": {},
   "outputs": [],
   "source": [
    "def get_list_length(x):\n",
    "    return len(x)"
   ]
  },
  {
   "cell_type": "code",
   "execution_count": 8,
   "metadata": {},
   "outputs": [],
   "source": [
    "def to_lowercase(x):\n",
    "    return x.lower()"
   ]
  },
  {
   "cell_type": "code",
   "execution_count": 9,
   "metadata": {},
   "outputs": [],
   "source": [
    "def extract_hashtags(x):\n",
    "    return re.findall(r'#\\w+', x)"
   ]
  },
  {
   "cell_type": "code",
   "execution_count": 10,
   "metadata": {},
   "outputs": [],
   "source": [
    "def extract_tags(x):\n",
    "    return re.findall(r'@\\w+', x)"
   ]
  },
  {
   "cell_type": "code",
   "execution_count": 11,
   "metadata": {},
   "outputs": [],
   "source": [
    "def extract_links(x):\n",
    "    return re.findall(r'http[s]?://(?:[a-zA-Z]|[0-9]|[$-_@.&+]|[!*\\(\\),]|(?:%[0-9a-fA-F][0-9a-fA-F]))+', x)"
   ]
  },
  {
   "cell_type": "code",
   "execution_count": 12,
   "metadata": {},
   "outputs": [],
   "source": [
    "def clean_text(text):\n",
    "    text = re.sub(r'\\n',' ', text) # Remove line breaks\n",
    "    text = re.sub('\\s+', ' ', text).strip() # Remove leading, trailing, and extra spaces\n",
    "    return text"
   ]
  },
  {
   "cell_type": "code",
   "execution_count": 13,
   "metadata": {},
   "outputs": [],
   "source": [
    "train.insert(loc=train.shape[1] - 1, column='text_clean', value = train['text'].apply(lambda x: clean_text(x)))\n",
    "test.insert(loc=test.shape[1], column='text_clean', value = test['text'].apply(lambda x: clean_text(x)))"
   ]
  },
  {
   "cell_type": "code",
   "execution_count": 14,
   "metadata": {},
   "outputs": [],
   "source": [
    "#para que tengan el mismo orden repito esta funcion ya que el shape cambia segun tiene el target o no\n",
    "#es la diferencia entre test y train\n",
    "def create_peculiar_features(df, pos):\n",
    "    df_temp = df.copy()\n",
    "    \n",
    "    #tags\n",
    "    df_temp['tags'] = df_temp['text_clean'].apply(extract_tags)\n",
    "    df.insert(loc=df.shape[1] - pos, column='tags_count', value = df_temp['tags'].apply(get_list_length))\n",
    "    \n",
    "    #links\n",
    "    df_temp['links'] = df_temp['text_clean'].apply(extract_tags)\n",
    "    df.insert(loc=df.shape[1] - pos, column='links_count', value = df_temp['links'].apply(get_list_length))\n",
    "    \n",
    "    #hashtags\n",
    "    df_temp['text_clean'] = df_temp['text_clean'].apply(to_lowercase)\n",
    "    df_temp['hashtags'] = df_temp['text_clean'].apply(extract_hashtags)\n",
    "    df.insert(loc=df.shape[1] - pos, column='hashtags_count', value = df_temp['hashtags'].apply(get_list_length))\n",
    "    \n",
    "    del(df_temp)\n",
    "    \n",
    "    return df"
   ]
  },
  {
   "cell_type": "code",
   "execution_count": 15,
   "metadata": {},
   "outputs": [],
   "source": [
    "def create_common_numerical_features(df,pos):\n",
    "    # Tweet length\n",
    "    df.insert(loc=df.shape[1] - pos, column='text_len', value = df['text'].apply(len))\n",
    "    \n",
    "    # Word count\n",
    "    df.insert(loc=df.shape[1] - pos, column='word_count', value = df['text'].apply(lambda x: len(str(x).split())))\n",
    "    \n",
    "    # Stopword count\n",
    "    df.insert(loc=df.shape[1] - pos, column='stop_word_count', value = \\\n",
    "              df['text'].apply(lambda x: len([w for w in str(x).lower().split() if w in STOPWORDS])))\n",
    "    \n",
    "    # Punctuation count\n",
    "    df.insert(loc=df.shape[1] - pos, column='punctuation_count', value = \\\n",
    "              df['text'].apply(lambda x: len([c for c in str(x) if c in string.punctuation])))\n",
    "\n",
    "    # Count of uppercase letters\n",
    "    df.insert(loc=df.shape[1] - pos, column='caps_count', value=\\\n",
    "              df['text'].apply(lambda x: sum(1 for c in str(x) if c.isupper())))\n",
    "    \n",
    "    # Ratio of uppercase letters\n",
    "    df.insert(loc=df.shape[1] - pos, column='caps_ratio', value = df['caps_count'] / df['text_len'])\n",
    "    #df['caps_ratio'] = df['caps_count'] / df['text_len']\n",
    "    return df"
   ]
  },
  {
   "cell_type": "code",
   "execution_count": 16,
   "metadata": {},
   "outputs": [],
   "source": [
    "train = create_peculiar_features(train,1)\n",
    "train = create_common_numerical_features(train,1)"
   ]
  },
  {
   "cell_type": "code",
   "execution_count": 17,
   "metadata": {},
   "outputs": [],
   "source": [
    "test = create_peculiar_features(test,0)\n",
    "test = create_common_numerical_features(test,0)"
   ]
  },
  {
   "cell_type": "markdown",
   "metadata": {},
   "source": [
    "# * Fin agregado de features de tp1 *"
   ]
  },
  {
   "cell_type": "markdown",
   "metadata": {},
   "source": [
    "Hagamos la funcion para guardar submissions ahora, para evitar problemas a futuro y despreocuparnos."
   ]
  },
  {
   "cell_type": "code",
   "execution_count": 18,
   "metadata": {},
   "outputs": [],
   "source": [
    "# To save predictions.\n",
    "# There must be a directory ../predictions for this to work as expected.\n",
    "import time\n",
    "def _get_filename(my_name, timestamp):\n",
    "    return \"../predictions/\" + timestamp + \" by \" + my_name + \".csv\"\n",
    "\n",
    "def _save_description(authors_name, timestamp, submission_description):\n",
    "    f = open(\"../predictions/\" + authors_name + \".txt\",\"a\")\n",
    "    f.write(timestamp + \": \" + submission_description + '\\n')\n",
    "    f.close()\n",
    "\n",
    "def save_submission(submission_df, authors_name=\"fc\", description = \"no description.\", index=False, header=True):\n",
    "    timestamp = time.strftime(\"%Y.%m.%d - %H:%M:%S\")\n",
    "    submission_df.to_csv(_get_filename(authors_name, timestamp), index=index, header=header)\n",
    "    _save_description(authors_name, timestamp, description)"
   ]
  },
  {
   "cell_type": "code",
   "execution_count": 19,
   "metadata": {},
   "outputs": [],
   "source": [
    "# Define a seed, so all algorithms that accept a seed, take the same, for consistency reasons,\n",
    "# so everything can be replicated without problems random state\n",
    "seed=42"
   ]
  },
  {
   "cell_type": "code",
   "execution_count": 20,
   "metadata": {},
   "outputs": [],
   "source": [
    "from sklearn.model_selection import train_test_split\n",
    "X_train, X_test, y_train, y_test = train_test_split(train.drop('target', axis=1), train['target'], test_size=0.33, random_state=seed)"
   ]
  },
  {
   "cell_type": "markdown",
   "metadata": {},
   "source": [
    "***"
   ]
  },
  {
   "cell_type": "markdown",
   "metadata": {},
   "source": [
    "# Approach nº1 - Label Propagation - kernel rbf"
   ]
  },
  {
   "cell_type": "code",
   "execution_count": 21,
   "metadata": {},
   "outputs": [],
   "source": [
    "from sklearn.semi_supervised import LabelPropagation"
   ]
  },
  {
   "cell_type": "markdown",
   "metadata": {},
   "source": [
    "## Entrenamiento local"
   ]
  },
  {
   "cell_type": "code",
   "execution_count": 22,
   "metadata": {},
   "outputs": [
    {
     "name": "stdout",
     "output_type": "stream",
     "text": [
      "[Pipeline] ......... (step 1 of 2) Processing col_trans, total=  24.3s\n",
      "[Pipeline] ................ (step 2 of 2) Processing LP, total=   0.6s\n",
      "F1 Score: 0.6333432276006985\n",
      "Precision: 0.633265080737879\n",
      "Recall: 0.6334266003492166\n"
     ]
    }
   ],
   "source": [
    "num_columns = [\n",
    "#     'id',\n",
    "    'tags_count', 'links_count',\n",
    "    'hashtags_count', 'text_len', 'word_count', 'stop_word_count',\n",
    "    'punctuation_count', 'caps_count', 'caps_ratio'\n",
    "    ]\n",
    "\n",
    "text_columns = ['keyword',\n",
    "                'text',\n",
    "                'text_clean'\n",
    "               ]\n",
    "\n",
    "from sklearn.pipeline import Pipeline\n",
    "from sklearn.compose import ColumnTransformer\n",
    "\n",
    "from sklearn.impute import SimpleImputer\n",
    "from sklearn.preprocessing import StandardScaler\n",
    "from sklearn.feature_extraction.text import HashingVectorizer\n",
    "from sklearn.decomposition import TruncatedSVD\n",
    "\n",
    "transformers = []\n",
    "\n",
    "#transformaciones para los numeros, simple imputer para los misssing values y standard scaler\n",
    "#tal que la distribución tenga un valor medio 0 y una desviación estándar de 1.\n",
    "transformers.append((\"num\",\n",
    "                     Pipeline(steps=[\n",
    "                         (\"num_imputer\", SimpleImputer(strategy='most_frequent',verbose=1)),\n",
    "                         (\"num_transformer\", StandardScaler())\n",
    "                     ]),\n",
    "                   num_columns))\n",
    "\n",
    "# The reason this for is necessary is because text transformers take an array-like parameter.\n",
    "# If we pass a list of columns, then the transformer will receive a dataframe, and that will result in error.\n",
    "# If you don't want to process all the text columns with the same pipeline, you'll have to define\n",
    "# a different pipelines for each, and pass a different list for each of the pipelines.\n",
    "\n",
    "#hashing vectorizer devuelve una matriz de un texto convertido y la SVD reduce su dimension para poder trabajarlo\n",
    "for col in text_columns:\n",
    "    # First, fill empty texts with an empty string.\n",
    "    X_train[col] = X_train[col].fillna(\"\")\n",
    "    X_test[col] = X_test[col].fillna(\"\")\n",
    "    train[col] = train[col].fillna(\"\")\n",
    "    test[col] = test[col].fillna(\"\")\n",
    "    transformer_name = \"text_\" + col\n",
    "    transformers.append((transformer_name,\n",
    "                        Pipeline(steps=[\n",
    "                            (\"hashing_vectorizer\", HashingVectorizer(decode_error='replace', strip_accents='ascii')),\n",
    "                            (\"svd\", TruncatedSVD(n_components=20, n_iter=7, random_state=seed))\n",
    "                        ]),\n",
    "                         col))\n",
    "\n",
    "my_col_transformer = ColumnTransformer(transformers, remainder='drop', sparse_threshold=0.3, \n",
    "                                       n_jobs=-1, \n",
    "                                       transformer_weights=None)\n",
    "\n",
    "steps = []\n",
    "\n",
    "steps.append((\"col_trans\", my_col_transformer))\n",
    "\n",
    "\n",
    "#algoritmo a usar, pongo un regressor a modo de ejemplo pero hay que usar un classifier\n",
    "from sklearn.linear_model import LogisticRegression\n",
    "label_propagation_model = LabelPropagation()\n",
    "steps.append((\"LP\", label_propagation_model))\n",
    "\n",
    "my_pipe = Pipeline(steps, verbose=True)\n",
    "\n",
    "my_pipe.fit(X_train, y_train)\n",
    "\n",
    "y_scores = my_pipe.predict(X_test)\n",
    "\n",
    "#metrica a utilizar\n",
    "from sklearn.metrics import accuracy_score, f1_score, precision_score, recall_score, classification_report, confusion_matrix,mean_absolute_error\n",
    "print(\"F1 Score: \" + str(f1_score(y_test, y_scores, average=\"macro\")))\n",
    "print(\"Precision: \" + str(precision_score(y_test, y_scores, average=\"macro\")))\n",
    "print(\"Recall: \" + str(recall_score(y_test, y_scores, average=\"macro\")))"
   ]
  },
  {
   "cell_type": "code",
   "execution_count": 34,
   "metadata": {},
   "outputs": [],
   "source": [
    "os.system('say \"Terminé gato.\"')"
   ]
  },
  {
   "cell_type": "markdown",
   "metadata": {},
   "source": [
    "## Entrenamiento con todos los datos para obtener predicciones a subir"
   ]
  },
  {
   "cell_type": "code",
   "execution_count": 28,
   "metadata": {},
   "outputs": [],
   "source": [
    "X = train.drop(['target'], axis=1) #set de datos\n",
    "y = train['target'] #target"
   ]
  },
  {
   "cell_type": "code",
   "execution_count": 29,
   "metadata": {},
   "outputs": [
    {
     "name": "stdout",
     "output_type": "stream",
     "text": [
      "[Pipeline] ......... (step 1 of 2) Processing col_trans, total=  24.0s\n",
      "[Pipeline] ................ (step 2 of 2) Processing LP, total=   1.3s\n"
     ]
    }
   ],
   "source": [
    "my_pipe.fit(X,y)\n",
    "\n",
    "# prediciendo valores\n",
    "predictions = my_pipe.predict(test)"
   ]
  },
  {
   "cell_type": "code",
   "execution_count": 30,
   "metadata": {},
   "outputs": [],
   "source": [
    "df_predictions = pd.DataFrame(data={'id':test['id'], 'target':predictions})"
   ]
  },
  {
   "cell_type": "code",
   "execution_count": 31,
   "metadata": {},
   "outputs": [],
   "source": [
    "description = \"1st simple_approach. LabelPropagation\"\n",
    "save_submission(df_predictions, description=description)"
   ]
  },
  {
   "cell_type": "code",
   "execution_count": 32,
   "metadata": {},
   "outputs": [
    {
     "data": {
      "text/plain": [
       "0"
      ]
     },
     "execution_count": 32,
     "metadata": {},
     "output_type": "execute_result"
    }
   ],
   "source": [
    "os.system('say \"Terminé gato.\"')"
   ]
  },
  {
   "cell_type": "markdown",
   "metadata": {},
   "source": [
    "## K folds en nuestro train set"
   ]
  },
  {
   "cell_type": "code",
   "execution_count": 35,
   "metadata": {},
   "outputs": [
    {
     "name": "stdout",
     "output_type": "stream",
     "text": [
      "[Pipeline] ......... (step 1 of 2) Processing col_trans, total=  20.7s\n",
      "[Pipeline] ................ (step 2 of 2) Processing LP, total=   0.6s\n",
      "0.3565799842395587\n",
      "[Pipeline] ......... (step 1 of 2) Processing col_trans, total=  22.1s\n",
      "[Pipeline] ................ (step 2 of 2) Processing LP, total=   0.6s\n",
      "0.3459416863672183\n",
      "[Pipeline] ......... (step 1 of 2) Processing col_trans, total=  19.6s\n",
      "[Pipeline] ................ (step 2 of 2) Processing LP, total=   0.6s\n",
      "0.3586913677571935\n"
     ]
    },
    {
     "name": "stderr",
     "output_type": "stream",
     "text": [
      "/usr/local/lib/python3.7/site-packages/sklearn/semi_supervised/label_propagation.py:201: RuntimeWarning: invalid value encountered in true_divide\n",
      "  probabilities /= normalizer\n"
     ]
    }
   ],
   "source": [
    "from sklearn.model_selection import KFold\n",
    "kf = KFold(n_splits=3, shuffle=True, random_state=seed)\n",
    "\n",
    "df = pd.DataFrame([])\n",
    "\n",
    "# UPDATE THIS VALUE\n",
    "approach_numer = \"lucioll_approach_1\"\n",
    "\n",
    "for train_index, test_index in kf.split(train):\n",
    "    X = train.drop(['target'], axis=1) #set de datos\n",
    "    y = train['target'] #target\n",
    "    # for loop copied from docs: https://scikit-learn.org/stable/modules/generated/sklearn.model_selection.KFold.html#sklearn.model_selection.KFold\n",
    "    X_train2, X_test2 = X.iloc[train_index], X.iloc[test_index]\n",
    "    y_train2, y_test2 = y[train_index], y[test_index]\n",
    "    \n",
    "    my_pipe.fit(X_train2, y_train2)\n",
    "    y_scores = my_pipe.predict(X_test2)\n",
    "    \n",
    "    print(mean_absolute_error(y_test2, y_scores))\n",
    "    \n",
    "    df = df.append(pd.DataFrame(data={'id':X_test2['id'], approach_numer:y_scores}))\n",
    "\n",
    "df.to_csv(\"../predictions/on_train_data/\" + approach_numer + \".csv\", index=False, header=True)"
   ]
  },
  {
   "cell_type": "code",
   "execution_count": null,
   "metadata": {},
   "outputs": [],
   "source": []
  },
  {
   "cell_type": "code",
   "execution_count": null,
   "metadata": {},
   "outputs": [],
   "source": []
  },
  {
   "cell_type": "markdown",
   "metadata": {},
   "source": [
    "# Approach nº2 - Label Propagation - kernel KNN"
   ]
  },
  {
   "cell_type": "code",
   "execution_count": 21,
   "metadata": {},
   "outputs": [],
   "source": [
    "from sklearn.semi_supervised import LabelPropagation"
   ]
  },
  {
   "cell_type": "markdown",
   "metadata": {},
   "source": [
    "## Entrenamiento local"
   ]
  },
  {
   "cell_type": "code",
   "execution_count": 36,
   "metadata": {},
   "outputs": [
    {
     "name": "stdout",
     "output_type": "stream",
     "text": [
      "[Pipeline] ......... (step 1 of 2) Processing col_trans, total=  24.0s\n",
      "[Pipeline] ................ (step 2 of 2) Processing LP, total=   0.7s\n",
      "F1 Score: 0.6591500943743005\n",
      "Precision: 0.6648008592433072\n",
      "Recall: 0.657527276875354\n"
     ]
    }
   ],
   "source": [
    "num_columns = [\n",
    "#     'id',\n",
    "    'tags_count', 'links_count',\n",
    "    'hashtags_count', 'text_len', 'word_count', 'stop_word_count',\n",
    "    'punctuation_count', 'caps_count', 'caps_ratio'\n",
    "    ]\n",
    "\n",
    "text_columns = ['keyword',\n",
    "                'text',\n",
    "                'text_clean'\n",
    "               ]\n",
    "\n",
    "from sklearn.pipeline import Pipeline\n",
    "from sklearn.compose import ColumnTransformer\n",
    "\n",
    "from sklearn.impute import SimpleImputer\n",
    "from sklearn.preprocessing import StandardScaler\n",
    "from sklearn.feature_extraction.text import HashingVectorizer\n",
    "from sklearn.decomposition import TruncatedSVD\n",
    "\n",
    "transformers = []\n",
    "\n",
    "#transformaciones para los numeros, simple imputer para los misssing values y standard scaler\n",
    "#tal que la distribución tenga un valor medio 0 y una desviación estándar de 1.\n",
    "transformers.append((\"num\",\n",
    "                     Pipeline(steps=[\n",
    "                         (\"num_imputer\", SimpleImputer(strategy='most_frequent',verbose=1)),\n",
    "                         (\"num_transformer\", StandardScaler())\n",
    "                     ]),\n",
    "                   num_columns))\n",
    "\n",
    "# The reason this for is necessary is because text transformers take an array-like parameter.\n",
    "# If we pass a list of columns, then the transformer will receive a dataframe, and that will result in error.\n",
    "# If you don't want to process all the text columns with the same pipeline, you'll have to define\n",
    "# a different pipelines for each, and pass a different list for each of the pipelines.\n",
    "\n",
    "#hashing vectorizer devuelve una matriz de un texto convertido y la SVD reduce su dimension para poder trabajarlo\n",
    "for col in text_columns:\n",
    "    # First, fill empty texts with an empty string.\n",
    "    X_train[col] = X_train[col].fillna(\"\")\n",
    "    X_test[col] = X_test[col].fillna(\"\")\n",
    "    train[col] = train[col].fillna(\"\")\n",
    "    test[col] = test[col].fillna(\"\")\n",
    "    transformer_name = \"text_\" + col\n",
    "    transformers.append((transformer_name,\n",
    "                        Pipeline(steps=[\n",
    "                            (\"hashing_vectorizer\", HashingVectorizer(decode_error='replace', strip_accents='ascii')),\n",
    "                            (\"svd\", TruncatedSVD(n_components=20, n_iter=7, random_state=seed))\n",
    "                        ]),\n",
    "                         col))\n",
    "\n",
    "my_col_transformer = ColumnTransformer(transformers, remainder='drop', sparse_threshold=0.3, \n",
    "                                       n_jobs=-1, \n",
    "                                       transformer_weights=None)\n",
    "\n",
    "steps = []\n",
    "\n",
    "steps.append((\"col_trans\", my_col_transformer))\n",
    "\n",
    "\n",
    "#algoritmo a usar, pongo un regressor a modo de ejemplo pero hay que usar un classifier\n",
    "from sklearn.linear_model import LogisticRegression\n",
    "label_propagation_model = LabelPropagation(kernel='knn')\n",
    "steps.append((\"LP\", label_propagation_model))\n",
    "\n",
    "my_pipe = Pipeline(steps, verbose=True)\n",
    "\n",
    "my_pipe.fit(X_train, y_train)\n",
    "\n",
    "y_scores = my_pipe.predict(X_test)\n",
    "\n",
    "#metrica a utilizar\n",
    "from sklearn.metrics import accuracy_score, f1_score, precision_score, recall_score, classification_report, confusion_matrix,mean_absolute_error\n",
    "print(\"F1 Score: \" + str(f1_score(y_test, y_scores, average=\"macro\")))\n",
    "print(\"Precision: \" + str(precision_score(y_test, y_scores, average=\"macro\")))\n",
    "print(\"Recall: \" + str(recall_score(y_test, y_scores, average=\"macro\")))"
   ]
  },
  {
   "cell_type": "code",
   "execution_count": 37,
   "metadata": {},
   "outputs": [
    {
     "data": {
      "text/plain": [
       "0"
      ]
     },
     "execution_count": 37,
     "metadata": {},
     "output_type": "execute_result"
    }
   ],
   "source": [
    "os.system('say \"Terminé gato.\"')"
   ]
  },
  {
   "cell_type": "markdown",
   "metadata": {},
   "source": [
    "## Entrenamiento con todos los datos para obtener predicciones a subir"
   ]
  },
  {
   "cell_type": "code",
   "execution_count": 38,
   "metadata": {},
   "outputs": [],
   "source": [
    "X = train.drop(['target'], axis=1) #set de datos\n",
    "y = train['target'] #target"
   ]
  },
  {
   "cell_type": "code",
   "execution_count": 39,
   "metadata": {},
   "outputs": [
    {
     "name": "stdout",
     "output_type": "stream",
     "text": [
      "[Pipeline] ......... (step 1 of 2) Processing col_trans, total=  20.8s\n",
      "[Pipeline] ................ (step 2 of 2) Processing LP, total=   1.4s\n"
     ]
    }
   ],
   "source": [
    "my_pipe.fit(X,y)\n",
    "\n",
    "# prediciendo valores\n",
    "predictions = my_pipe.predict(test)"
   ]
  },
  {
   "cell_type": "code",
   "execution_count": 40,
   "metadata": {},
   "outputs": [],
   "source": [
    "df_predictions = pd.DataFrame(data={'id':test['id'], 'target':predictions})"
   ]
  },
  {
   "cell_type": "code",
   "execution_count": 41,
   "metadata": {},
   "outputs": [],
   "source": [
    "description = \"2º simple_approach. LabelPropagation with kernel KNN\"\n",
    "save_submission(df_predictions, description=description)"
   ]
  },
  {
   "cell_type": "code",
   "execution_count": 42,
   "metadata": {},
   "outputs": [
    {
     "data": {
      "text/plain": [
       "0"
      ]
     },
     "execution_count": 42,
     "metadata": {},
     "output_type": "execute_result"
    }
   ],
   "source": [
    "os.system('say \"Terminé gato.\"')"
   ]
  },
  {
   "cell_type": "markdown",
   "metadata": {},
   "source": [
    "## K folds en nuestro train set"
   ]
  },
  {
   "cell_type": "code",
   "execution_count": 43,
   "metadata": {},
   "outputs": [
    {
     "name": "stdout",
     "output_type": "stream",
     "text": [
      "[Pipeline] ......... (step 1 of 2) Processing col_trans, total=  20.7s\n",
      "[Pipeline] ................ (step 2 of 2) Processing LP, total=   0.6s\n",
      "0.3262411347517731\n",
      "[Pipeline] ......... (step 1 of 2) Processing col_trans, total=  19.9s\n",
      "[Pipeline] ................ (step 2 of 2) Processing LP, total=   0.7s\n",
      "0.314026792750197\n",
      "[Pipeline] ......... (step 1 of 2) Processing col_trans, total=  19.9s\n",
      "[Pipeline] ................ (step 2 of 2) Processing LP, total=   0.8s\n",
      "0.34213638155301535\n"
     ]
    }
   ],
   "source": [
    "from sklearn.model_selection import KFold\n",
    "kf = KFold(n_splits=3, shuffle=True, random_state=seed)\n",
    "\n",
    "df = pd.DataFrame([])\n",
    "\n",
    "# UPDATE THIS VALUE\n",
    "approach_numer = \"lucioll_approach_2\"\n",
    "\n",
    "for train_index, test_index in kf.split(train):\n",
    "    X = train.drop(['target'], axis=1) #set de datos\n",
    "    y = train['target'] #target\n",
    "    # for loop copied from docs: https://scikit-learn.org/stable/modules/generated/sklearn.model_selection.KFold.html#sklearn.model_selection.KFold\n",
    "    X_train2, X_test2 = X.iloc[train_index], X.iloc[test_index]\n",
    "    y_train2, y_test2 = y[train_index], y[test_index]\n",
    "    \n",
    "    my_pipe.fit(X_train2, y_train2)\n",
    "    y_scores = my_pipe.predict(X_test2)\n",
    "    \n",
    "    print(mean_absolute_error(y_test2, y_scores))\n",
    "    \n",
    "    df = df.append(pd.DataFrame(data={'id':X_test2['id'], approach_numer:y_scores}))\n",
    "\n",
    "df.to_csv(\"../predictions/on_train_data/\" + approach_numer + \".csv\", index=False, header=True)"
   ]
  },
  {
   "cell_type": "markdown",
   "metadata": {},
   "source": [
    "***"
   ]
  }
 ],
 "metadata": {
  "kernelspec": {
   "display_name": "Python 3",
   "language": "python",
   "name": "python3"
  },
  "language_info": {
   "codemirror_mode": {
    "name": "ipython",
    "version": 3
   },
   "file_extension": ".py",
   "mimetype": "text/x-python",
   "name": "python",
   "nbconvert_exporter": "python",
   "pygments_lexer": "ipython3",
   "version": "3.7.4"
  }
 },
 "nbformat": 4,
 "nbformat_minor": 4
}
